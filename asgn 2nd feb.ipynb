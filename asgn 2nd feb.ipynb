{
 "cells": [
  {
   "cell_type": "code",
   "execution_count": 1,
   "id": "261c16e6-5e40-465a-a9a0-9ce034cc991d",
   "metadata": {},
   "outputs": [
    {
     "name": "stdin",
     "output_type": "stream",
     "text": [
      "enter a value :  20\n"
     ]
    },
    {
     "name": "stdout",
     "output_type": "stream",
     "text": [
      "the sum is  210\n"
     ]
    }
   ],
   "source": [
    "#Explain with an example each when to use a for loop and a while loop.\n",
    "\n",
    "\"\"\"Ans. \"fo loop\" If we want to extract some actioin for every element present in some sequence (that is a list\n",
    "        or a tuple or  dictionaryor a set or a string) then we should go for 'for loop'. Its traditionally used when\n",
    "        you have a piece of cade which you want \n",
    "        to repeat 'n' number of time. The 'for' loop is ofthe distinguished by an explicit loop counter or loop variable.\n",
    "   \n",
    "   \"while loop\" : It is used to excute of statements till the condition passed in while is true. Once the condition is \n",
    "   false, the control will come out of the loop.\n",
    "    \n",
    "    if the condition returns false the the loop is terminsted and the control jumps to the next statement in \n",
    "    the program after the loop.\"\"\"\n",
    "\n",
    "#Example: while loop\n",
    "\n",
    "val = int(input(\"enter a value : \"))\n",
    "\n",
    "sum = 0\n",
    "counter = 1\n",
    "while counter <=val:\n",
    "    sum = sum + counter\n",
    "    counter = counter +1\n",
    "print(\"the sum is \" , sum)    "
   ]
  },
  {
   "cell_type": "code",
   "execution_count": 3,
   "id": "829f064d-8c91-445b-89bb-10ff29ec9761",
   "metadata": {},
   "outputs": [
    {
     "name": "stdin",
     "output_type": "stream",
     "text": [
      "Enter a string value : rishikesh\n"
     ]
    },
    {
     "name": "stdout",
     "output_type": "stream",
     "text": [
      "0 index is :  r\n",
      "1 index is :  i\n",
      "2 index is :  s\n",
      "3 index is :  h\n",
      "4 index is :  i\n",
      "5 index is :  k\n",
      "6 index is :  e\n",
      "7 index is :  s\n",
      "8 index is :  h\n"
     ]
    }
   ],
   "source": [
    "#Example : for loop\n",
    "str = input(\"Enter a string value :\")\n",
    "counter = 0\n",
    "for x in str:\n",
    "    print(counter, \"index is : \", x)\n",
    "    counter = counter + 1"
   ]
  },
  {
   "cell_type": "code",
   "execution_count": 13,
   "id": "bd845994-18b2-4ed1-9b46-cf843a8a92f8",
   "metadata": {},
   "outputs": [
    {
     "name": "stdin",
     "output_type": "stream",
     "text": [
      "enter a value :  12\n"
     ]
    },
    {
     "name": "stdout",
     "output_type": "stream",
     "text": [
      "the sum is  1\n",
      "the sum is  3\n",
      "the sum is  6\n",
      "the sum is  10\n",
      "the sum is  15\n",
      "the sum is  21\n",
      "the sum is  28\n",
      "the sum is  36\n",
      "the sum is  45\n",
      "the sum is  55\n",
      "the number is greater than 10\n"
     ]
    }
   ],
   "source": [
    "#Q2. write  a python program to print the sum and product of the first 10 natural numbers using for and while loop.\n",
    "\n",
    "#Ans. by using for loop:\n",
    "    \n",
    "val = int(input(\"enter a value : \"))\n",
    "\n",
    "sum = 0\n",
    "counter = 1\n",
    "while counter <=10:\n",
    "    sum = sum + counter\n",
    "    counter = counter +1\n",
    "    print(\"the sum is \" , sum)\n",
    "if counter > 10:\n",
    "    print(\"the number is greater than 10\")\n",
    "else:\n",
    "    print(\"the number which is given is greater than 10\")"
   ]
  },
  {
   "cell_type": "code",
   "execution_count": 15,
   "id": "d3dffa54-39e3-47a7-8864-220bd7d420e6",
   "metadata": {},
   "outputs": [
    {
     "name": "stdout",
     "output_type": "stream",
     "text": [
      "sum is  55\n"
     ]
    }
   ],
   "source": [
    "#Example for: for loop\n",
    "\n",
    "sum = 0\n",
    "for i in range (1, 11):\n",
    "    sum = sum + i\n",
    "print(\"sum is \", sum)"
   ]
  },
  {
   "cell_type": "code",
   "execution_count": 3,
   "id": "80238f93-8752-4905-84b8-40201d7fcb6b",
   "metadata": {},
   "outputs": [
    {
     "name": "stdin",
     "output_type": "stream",
     "text": [
      "enter your unit of elecricity consumed in a month form the user:  310\n"
     ]
    },
    {
     "name": "stdout",
     "output_type": "stream",
     "text": [
      "your bill amount:  2250\n"
     ]
    }
   ],
   "source": [
    "# Q3. Create a python program to compute the elecricity bill for a household:\n",
    "\n",
    "unit = int(input(\"enter your unit of elecricity consumed in a month form the user: \"))\n",
    "if unit <= 100:\n",
    "    bill = unit * 4.5\n",
    "elif unit >= 101 and unit <= 200 :\n",
    "    bill =  (450 + ((unit - 100) * 6))\n",
    "elif unit >= 201 and unit <= 300:\n",
    "    bill =  (450 +600 + ((unit - 200) * 10))\n",
    "elif unit >= 301 : \n",
    "    bill = (450+ 600 + 1000 +  ((unit - 300) * 20))\n",
    "    print (\"your bill amount: \",bill)"
   ]
  },
  {
   "cell_type": "code",
   "execution_count": 42,
   "id": "bc7d36f8-c680-4f26-8b95-e8114429ec2d",
   "metadata": {},
   "outputs": [
    {
     "name": "stdout",
     "output_type": "stream",
     "text": [
      "[1, 8, 27, 64, 125, 216, 343, 512, 729, 1000, 1331, 1728, 2197, 2744, 3375, 4096, 4913, 5832, 6859, 8000, 9261, 10648, 12167, 13824, 15625, 17576, 19683, 21952, 24389, 27000, 29791, 32768, 35937, 39304, 42875, 46656, 50653, 54872, 59319, 64000, 68921, 74088, 79507, 85184, 91125, 97336, 103823, 110592, 117649, 125000, 132651, 140608, 148877, 157464, 166375, 175616, 185193, 195112, 205379, 216000, 226981, 238328, 250047, 262144, 274625, 287496, 300763, 314432, 328509, 343000, 357911, 373248, 389017, 405224, 421875, 438976, 456533, 474552, 493039, 512000, 531441, 551368, 571787, 592704, 614125, 636056, 658503, 681472, 704969, 729000, 753571, 778688, 804357, 830584, 857375, 884736, 912673, 941192, 970299]\n"
     ]
    }
   ],
   "source": [
    "# Q4. create a list of numbers from 1 to 100. use for loop and while loop to calculate the cube of each number and\n",
    "# if the cube of that number is divisible by 4 or 5 then append that number in a list and print that list.\n",
    "\n",
    "l1 = []\n",
    "for i in range(1,100):\n",
    "    l1.append(i**3)\n",
    "print(l1)"
   ]
  },
  {
   "cell_type": "code",
   "execution_count": 8,
   "id": "a1ee89ad-9e91-4a57-9613-13c167a80429",
   "metadata": {},
   "outputs": [
    {
     "name": "stdout",
     "output_type": "stream",
     "text": [
      "8\n",
      "64\n",
      "125\n",
      "216\n",
      "512\n",
      "1000\n",
      "1728\n",
      "2744\n",
      "3375\n",
      "4096\n",
      "5832\n",
      "8000\n",
      "10648\n",
      "13824\n",
      "15625\n",
      "17576\n",
      "21952\n",
      "27000\n",
      "32768\n",
      "39304\n",
      "42875\n",
      "46656\n",
      "54872\n",
      "64000\n",
      "74088\n",
      "85184\n",
      "91125\n",
      "97336\n",
      "110592\n",
      "125000\n",
      "140608\n",
      "157464\n",
      "166375\n",
      "175616\n",
      "195112\n",
      "216000\n",
      "238328\n",
      "262144\n",
      "274625\n",
      "287496\n",
      "314432\n",
      "343000\n",
      "373248\n",
      "405224\n",
      "421875\n",
      "438976\n",
      "474552\n",
      "512000\n",
      "551368\n",
      "592704\n",
      "614125\n",
      "636056\n",
      "681472\n",
      "729000\n",
      "778688\n",
      "830584\n",
      "857375\n",
      "884736\n",
      "941192\n"
     ]
    },
    {
     "ename": "TypeError",
     "evalue": "unsupported operand type(s) for %: 'list' and 'int'",
     "output_type": "error",
     "traceback": [
      "\u001b[0;31m---------------------------------------------------------------------------\u001b[0m",
      "\u001b[0;31mTypeError\u001b[0m                                 Traceback (most recent call last)",
      "Cell \u001b[0;32mIn[8], line 8\u001b[0m\n\u001b[1;32m      1\u001b[0m l1 \u001b[38;5;241m=\u001b[39m [\u001b[38;5;241m1\u001b[39m, \u001b[38;5;241m8\u001b[39m, \u001b[38;5;241m27\u001b[39m, \u001b[38;5;241m64\u001b[39m, \u001b[38;5;241m125\u001b[39m, \u001b[38;5;241m216\u001b[39m, \u001b[38;5;241m343\u001b[39m, \u001b[38;5;241m512\u001b[39m, \u001b[38;5;241m729\u001b[39m, \u001b[38;5;241m1000\u001b[39m, \u001b[38;5;241m1331\u001b[39m, \u001b[38;5;241m1728\u001b[39m, \u001b[38;5;241m2197\u001b[39m, \u001b[38;5;241m2744\u001b[39m, \u001b[38;5;241m3375\u001b[39m, \u001b[38;5;241m4096\u001b[39m, \u001b[38;5;241m4913\u001b[39m, \u001b[38;5;241m5832\u001b[39m, \u001b[38;5;241m6859\u001b[39m, \u001b[38;5;241m8000\u001b[39m, \u001b[38;5;241m9261\u001b[39m, \u001b[38;5;241m10648\u001b[39m, \u001b[38;5;241m12167\u001b[39m, \u001b[38;5;241m13824\u001b[39m, \n\u001b[1;32m      2\u001b[0m        \u001b[38;5;241m15625\u001b[39m, \u001b[38;5;241m17576\u001b[39m, \u001b[38;5;241m19683\u001b[39m, \u001b[38;5;241m21952\u001b[39m, \u001b[38;5;241m24389\u001b[39m, \u001b[38;5;241m27000\u001b[39m, \u001b[38;5;241m29791\u001b[39m, \u001b[38;5;241m32768\u001b[39m, \u001b[38;5;241m35937\u001b[39m, \u001b[38;5;241m39304\u001b[39m, \u001b[38;5;241m42875\u001b[39m, \u001b[38;5;241m46656\u001b[39m, \u001b[38;5;241m50653\u001b[39m, \u001b[38;5;241m54872\u001b[39m, \u001b[38;5;241m59319\u001b[39m, \u001b[38;5;241m64000\u001b[39m, \u001b[38;5;241m68921\u001b[39m, \u001b[38;5;241m74088\u001b[39m, \u001b[38;5;241m79507\u001b[39m,\n\u001b[1;32m      3\u001b[0m        \u001b[38;5;241m85184\u001b[39m, \u001b[38;5;241m91125\u001b[39m, \u001b[38;5;241m97336\u001b[39m, \u001b[38;5;241m103823\u001b[39m, \u001b[38;5;241m110592\u001b[39m, \u001b[38;5;241m117649\u001b[39m, \u001b[38;5;241m125000\u001b[39m, \u001b[38;5;241m132651\u001b[39m, \u001b[38;5;241m140608\u001b[39m, \u001b[38;5;241m148877\u001b[39m, \u001b[38;5;241m157464\u001b[39m, \u001b[38;5;241m166375\u001b[39m, \u001b[38;5;241m175616\u001b[39m, \u001b[38;5;241m185193\u001b[39m, \u001b[38;5;241m195112\u001b[39m, \u001b[38;5;241m205379\u001b[39m, \u001b[38;5;241m216000\u001b[39m,\n\u001b[1;32m      4\u001b[0m        \u001b[38;5;241m226981\u001b[39m, \u001b[38;5;241m238328\u001b[39m, \u001b[38;5;241m250047\u001b[39m, \u001b[38;5;241m262144\u001b[39m, \u001b[38;5;241m274625\u001b[39m, \u001b[38;5;241m287496\u001b[39m, \u001b[38;5;241m300763\u001b[39m, \u001b[38;5;241m314432\u001b[39m, \u001b[38;5;241m328509\u001b[39m, \u001b[38;5;241m343000\u001b[39m, \u001b[38;5;241m357911\u001b[39m, \u001b[38;5;241m373248\u001b[39m, \u001b[38;5;241m389017\u001b[39m, \u001b[38;5;241m405224\u001b[39m, \u001b[38;5;241m421875\u001b[39m, \u001b[38;5;241m438976\u001b[39m, \u001b[38;5;241m456533\u001b[39m,\n\u001b[1;32m      5\u001b[0m        \u001b[38;5;241m474552\u001b[39m, \u001b[38;5;241m493039\u001b[39m, \u001b[38;5;241m512000\u001b[39m, \u001b[38;5;241m531441\u001b[39m, \u001b[38;5;241m551368\u001b[39m, \u001b[38;5;241m571787\u001b[39m, \u001b[38;5;241m592704\u001b[39m, \u001b[38;5;241m614125\u001b[39m, \u001b[38;5;241m636056\u001b[39m, \u001b[38;5;241m658503\u001b[39m, \u001b[38;5;241m681472\u001b[39m, \u001b[38;5;241m704969\u001b[39m, \u001b[38;5;241m729000\u001b[39m, \u001b[38;5;241m753571\u001b[39m, \u001b[38;5;241m778688\u001b[39m, \u001b[38;5;241m804357\u001b[39m, \u001b[38;5;241m830584\u001b[39m,\n\u001b[1;32m      6\u001b[0m        \u001b[38;5;241m857375\u001b[39m, \u001b[38;5;241m884736\u001b[39m, \u001b[38;5;241m912673\u001b[39m, \u001b[38;5;241m941192\u001b[39m, \u001b[38;5;241m970299\u001b[39m]\n\u001b[1;32m      7\u001b[0m \u001b[38;5;28;01mfor\u001b[39;00m i \u001b[38;5;129;01min\u001b[39;00m l1:\n\u001b[0;32m----> 8\u001b[0m     \u001b[38;5;28;01mif\u001b[39;00m \u001b[43mi\u001b[49m\u001b[43m \u001b[49m\u001b[38;5;241;43m%\u001b[39;49m\u001b[43m \u001b[49m\u001b[38;5;241;43m5\u001b[39;49m \u001b[38;5;241m==\u001b[39m \u001b[38;5;241m0\u001b[39m \u001b[38;5;129;01mor\u001b[39;00m i \u001b[38;5;241m%\u001b[39m \u001b[38;5;241m4\u001b[39m \u001b[38;5;241m==\u001b[39m \u001b[38;5;241m0\u001b[39m:\n\u001b[1;32m      9\u001b[0m         l1\u001b[38;5;241m.\u001b[39mappend(l1)\n\u001b[1;32m     10\u001b[0m         \u001b[38;5;28mprint\u001b[39m(i)\n",
      "\u001b[0;31mTypeError\u001b[0m: unsupported operand type(s) for %: 'list' and 'int'"
     ]
    }
   ],
   "source": [
    "l1 = [1, 8, 27, 64, 125, 216, 343, 512, 729, 1000, 1331, 1728, 2197, 2744, 3375, 4096, 4913, 5832, 6859, 8000, 9261, 10648, 12167, 13824, \n",
    "       15625, 17576, 19683, 21952, 24389, 27000, 29791, 32768, 35937, 39304, 42875, 46656, 50653, 54872, 59319, 64000, 68921, 74088, 79507,\n",
    "       85184, 91125, 97336, 103823, 110592, 117649, 125000, 132651, 140608, 148877, 157464, 166375, 175616, 185193, 195112, 205379, 216000,\n",
    "       226981, 238328, 250047, 262144, 274625, 287496, 300763, 314432, 328509, 343000, 357911, 373248, 389017, 405224, 421875, 438976, 456533,\n",
    "       474552, 493039, 512000, 531441, 551368, 571787, 592704, 614125, 636056, 658503, 681472, 704969, 729000, 753571, 778688, 804357, 830584,\n",
    "       857375, 884736, 912673, 941192, 970299]\n",
    "for i in l1:\n",
    "    if i % 5 == 0 or i % 4 == 0:\n",
    "        l1.append(l1)\n",
    "        print(i)"
   ]
  },
  {
   "cell_type": "code",
   "execution_count": 10,
   "id": "78009398-ef6c-4bcf-a17b-629780571363",
   "metadata": {},
   "outputs": [
    {
     "name": "stdin",
     "output_type": "stream",
     "text": [
      "enter a string:  I want to become a data scientist.\n"
     ]
    },
    {
     "name": "stdout",
     "output_type": "stream",
     "text": [
      "{'a': 4, 'e': 3, 'i': 3, 'o': 2, 'u': 0}\n"
     ]
    }
   ],
   "source": [
    "# Q5. Write a program to filter count vowels in the below-given string.\n",
    "#Ans. \n",
    "#  string = \"I want to become a data scientist\"\n",
    "str = input(\"enter a string: \")\n",
    "str = str.casefold()\n",
    "count = {x:sum([1 for char in str if char == x]) for x in 'aeiou'}\n",
    "print(count)"
   ]
  },
  {
   "cell_type": "code",
   "execution_count": null,
   "id": "3686d683-227a-415d-8bbb-ee772164b74b",
   "metadata": {},
   "outputs": [],
   "source": []
  }
 ],
 "metadata": {
  "kernelspec": {
   "display_name": "Python 3 (ipykernel)",
   "language": "python",
   "name": "python3"
  },
  "language_info": {
   "codemirror_mode": {
    "name": "ipython",
    "version": 3
   },
   "file_extension": ".py",
   "mimetype": "text/x-python",
   "name": "python",
   "nbconvert_exporter": "python",
   "pygments_lexer": "ipython3",
   "version": "3.10.8"
  }
 },
 "nbformat": 4,
 "nbformat_minor": 5
}
