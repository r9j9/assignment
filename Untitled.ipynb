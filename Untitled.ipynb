{
 "cells": [
  {
   "cell_type": "code",
   "execution_count": 1,
   "id": "5ea13a92-d7f7-4a62-a194-80323690d017",
   "metadata": {},
   "outputs": [],
   "source": [
    "d = {}"
   ]
  },
  {
   "cell_type": "code",
   "execution_count": 3,
   "id": "b9447fbd-fcbd-4d78-b82d-add2b4dce260",
   "metadata": {},
   "outputs": [
    {
     "data": {
      "text/plain": [
       "dict"
      ]
     },
     "execution_count": 3,
     "metadata": {},
     "output_type": "execute_result"
    }
   ],
   "source": [
    "type(d)"
   ]
  },
  {
   "cell_type": "code",
   "execution_count": 6,
   "id": "75b251d2-4b8b-470b-826c-55bd79368f52",
   "metadata": {},
   "outputs": [],
   "source": [
    "d1={'key' : 'rishi'}"
   ]
  },
  {
   "cell_type": "code",
   "execution_count": 8,
   "id": "cf857ed7-e9a3-4e95-a9a9-81bab591acee",
   "metadata": {},
   "outputs": [],
   "source": [
    "d2 = {'name' : 'rishikesh' , 'email' : \"ranjanrishi011@\", 'number' : 79278644}"
   ]
  },
  {
   "cell_type": "code",
   "execution_count": 9,
   "id": "d86b3130-c938-4247-83b2-83ce1470f96d",
   "metadata": {},
   "outputs": [
    {
     "data": {
      "text/plain": [
       "{'name': 'rishikesh', 'email': 'ranjanrishi011@', 'number': 79278644}"
      ]
     },
     "execution_count": 9,
     "metadata": {},
     "output_type": "execute_result"
    }
   ],
   "source": [
    "d2"
   ]
  },
  {
   "cell_type": "code",
   "execution_count": 13,
   "id": "9103e24a-b204-4e75-ad18-7a3d1f66d7ae",
   "metadata": {},
   "outputs": [],
   "source": [
    "d3 = {234: 'rishikesh' , '_rishikesh' : ' ranjan' ,True : 234546}"
   ]
  },
  {
   "cell_type": "code",
   "execution_count": 14,
   "id": "73bc2c20-7dcd-4eb5-9a38-0bfff89d1e36",
   "metadata": {},
   "outputs": [
    {
     "data": {
      "text/plain": [
       "{234: 'rishikesh', '_rishikesh': ' ranjan', True: 234546}"
      ]
     },
     "execution_count": 14,
     "metadata": {},
     "output_type": "execute_result"
    }
   ],
   "source": [
    "d3"
   ]
  },
  {
   "cell_type": "code",
   "execution_count": 15,
   "id": "a1f562cb-2672-4d12-b91d-8fdb6f39e95e",
   "metadata": {},
   "outputs": [
    {
     "data": {
      "text/plain": [
       "'rishikesh'"
      ]
     },
     "execution_count": 15,
     "metadata": {},
     "output_type": "execute_result"
    }
   ],
   "source": [
    "d3[234]"
   ]
  },
  {
   "cell_type": "code",
   "execution_count": 16,
   "id": "91855628-86fc-433f-a3a3-a1eca8c6e5ed",
   "metadata": {},
   "outputs": [
    {
     "data": {
      "text/plain": [
       "234546"
      ]
     },
     "execution_count": 16,
     "metadata": {},
     "output_type": "execute_result"
    }
   ],
   "source": [
    "d3[True]"
   ]
  },
  {
   "cell_type": "code",
   "execution_count": 17,
   "id": "e74fca63-d14a-42c0-9484-c4c0118d95c6",
   "metadata": {},
   "outputs": [
    {
     "data": {
      "text/plain": [
       "234546"
      ]
     },
     "execution_count": 17,
     "metadata": {},
     "output_type": "execute_result"
    }
   ],
   "source": [
    "d3[1]"
   ]
  },
  {
   "cell_type": "code",
   "execution_count": 9,
   "id": "e8d607a6-7976-428b-a7ca-e40d00361289",
   "metadata": {},
   "outputs": [],
   "source": [
    "d5 ={\"company\" : 'pwskills' , 'course' :['web development' , 'data science' , 'java with dsa system design' ]}"
   ]
  },
  {
   "cell_type": "code",
   "execution_count": 6,
   "id": "d7c0faa0-d9b4-4afb-9fd5-95a52a0c6fca",
   "metadata": {},
   "outputs": [
    {
     "data": {
      "text/plain": [
       "{'company': 'pwskills',\n",
       " ' course': ['web development', 'data science', 'java with dsa system design']}"
      ]
     },
     "execution_count": 6,
     "metadata": {},
     "output_type": "execute_result"
    }
   ],
   "source": [
    "d5"
   ]
  },
  {
   "cell_type": "code",
   "execution_count": null,
   "id": "67203263-a087-4171-a52f-1ac3695d70ee",
   "metadata": {},
   "outputs": [],
   "source": []
  },
  {
   "cell_type": "code",
   "execution_count": 10,
   "id": "98de8ba2-ea62-487c-84df-d06449e8fe1c",
   "metadata": {},
   "outputs": [
    {
     "data": {
      "text/plain": [
       "['web development', 'data science', 'java with dsa system design']"
      ]
     },
     "execution_count": 10,
     "metadata": {},
     "output_type": "execute_result"
    }
   ],
   "source": [
    "d5['course']"
   ]
  },
  {
   "cell_type": "code",
   "execution_count": 11,
   "id": "953cf46c-7c4d-48da-afe5-026cba1127a2",
   "metadata": {},
   "outputs": [
    {
     "data": {
      "text/plain": [
       "'java with dsa system design'"
      ]
     },
     "execution_count": 11,
     "metadata": {},
     "output_type": "execute_result"
    }
   ],
   "source": [
    "d5['course'][2]"
   ]
  },
  {
   "cell_type": "code",
   "execution_count": 20,
   "id": "7e61bfe5-23f9-4d07-80be-062119cb70d0",
   "metadata": {},
   "outputs": [],
   "source": [
    "d6= {'number' : [3,4,56,77,8,3,] , 'assignment' : (1,2,3,4,65,67,) , 'launch date': {24,34,36,}, 'class_time' : {'web_deveopment': 8, 'data science masters' : 8, 'jawa with dsa  and system design' : 7,}}"
   ]
  },
  {
   "cell_type": "code",
   "execution_count": 21,
   "id": "eae2ecf7-4e1f-42bb-8b00-3d3d6cdc8919",
   "metadata": {},
   "outputs": [
    {
     "data": {
      "text/plain": [
       "{'number': [3, 4, 56, 77, 8, 3],\n",
       " 'assignment': (1, 2, 3, 4, 65, 67),\n",
       " 'launch date': {24, 34, 36},\n",
       " 'class_time': {'web_deveopment': 8,\n",
       "  'data science masters': 8,\n",
       "  'jawa with dsa  and system design': 7}}"
      ]
     },
     "execution_count": 21,
     "metadata": {},
     "output_type": "execute_result"
    }
   ],
   "source": [
    "d6"
   ]
  },
  {
   "cell_type": "code",
   "execution_count": 24,
   "id": "30350ab2-8aa4-4a47-ba20-36c3b8726f5a",
   "metadata": {},
   "outputs": [
    {
     "data": {
      "text/plain": [
       "{'web_deveopment': 8,\n",
       " 'data science masters': 8,\n",
       " 'jawa with dsa  and system design': 7}"
      ]
     },
     "execution_count": 24,
     "metadata": {},
     "output_type": "execute_result"
    }
   ],
   "source": [
    "d6['class_time']"
   ]
  },
  {
   "cell_type": "code",
   "execution_count": 27,
   "id": "12e04902-e50d-4b68-bfe0-d2b0235a6fa3",
   "metadata": {},
   "outputs": [
    {
     "data": {
      "text/plain": [
       "7"
      ]
     },
     "execution_count": 27,
     "metadata": {},
     "output_type": "execute_result"
    }
   ],
   "source": [
    "d6['class_time']['jawa with dsa  and system design']"
   ]
  },
  {
   "cell_type": "code",
   "execution_count": 28,
   "id": "39aff274-2d13-436d-8933-f2ee25d92edd",
   "metadata": {},
   "outputs": [],
   "source": [
    "d6['mentor'] = ['rishikesh' , 'rahul' , 'sanjeev' , 'anurag']"
   ]
  },
  {
   "cell_type": "code",
   "execution_count": 29,
   "id": "3e0c7f82-96cc-4dd6-81e2-4b4bcee7fe54",
   "metadata": {},
   "outputs": [
    {
     "data": {
      "text/plain": [
       "{'number': [3, 4, 56, 77, 8, 3],\n",
       " 'assignment': (1, 2, 3, 4, 65, 67),\n",
       " 'launch date': {24, 34, 36},\n",
       " 'class_time': {'web_deveopment': 8,\n",
       "  'data science masters': 8,\n",
       "  'jawa with dsa  and system design': 7},\n",
       " 'mentor': ['rishikesh', 'rahul', 'sanjeev', 'anurag']}"
      ]
     },
     "execution_count": 29,
     "metadata": {},
     "output_type": "execute_result"
    }
   ],
   "source": [
    "d6"
   ]
  },
  {
   "cell_type": "code",
   "execution_count": 30,
   "id": "38ef33e3-5961-484b-bcbc-53c7606b5d09",
   "metadata": {},
   "outputs": [],
   "source": [
    "del d6['number']"
   ]
  },
  {
   "cell_type": "code",
   "execution_count": 31,
   "id": "a627dbff-a512-44fc-adbe-f395f4a44243",
   "metadata": {},
   "outputs": [
    {
     "data": {
      "text/plain": [
       "{'assignment': (1, 2, 3, 4, 65, 67),\n",
       " 'launch date': {24, 34, 36},\n",
       " 'class_time': {'web_deveopment': 8,\n",
       "  'data science masters': 8,\n",
       "  'jawa with dsa  and system design': 7},\n",
       " 'mentor': ['rishikesh', 'rahul', 'sanjeev', 'anurag']}"
      ]
     },
     "execution_count": 31,
     "metadata": {},
     "output_type": "execute_result"
    }
   ],
   "source": [
    "d6"
   ]
  },
  {
   "cell_type": "code",
   "execution_count": 32,
   "id": "3e100a22-eff6-4156-bb97-04d7b2cf23c2",
   "metadata": {},
   "outputs": [
    {
     "data": {
      "text/plain": [
       "dict_keys(['assignment', 'launch date', 'class_time', 'mentor'])"
      ]
     },
     "execution_count": 32,
     "metadata": {},
     "output_type": "execute_result"
    }
   ],
   "source": [
    "d6.keys()"
   ]
  },
  {
   "cell_type": "code",
   "execution_count": 34,
   "id": "b1013127-20c6-4d39-aca5-2778c4c9cefe",
   "metadata": {},
   "outputs": [
    {
     "data": {
      "text/plain": [
       "['assignment', 'launch date', 'class_time', 'mentor']"
      ]
     },
     "execution_count": 34,
     "metadata": {},
     "output_type": "execute_result"
    }
   ],
   "source": [
    "list(d6.keys())"
   ]
  },
  {
   "cell_type": "code",
   "execution_count": 35,
   "id": "b79b2fa5-dd69-4dfe-a515-4bf2caeef68a",
   "metadata": {},
   "outputs": [
    {
     "data": {
      "text/plain": [
       "[('assignment', (1, 2, 3, 4, 65, 67)),\n",
       " ('launch date', {24, 34, 36}),\n",
       " ('class_time',\n",
       "  {'web_deveopment': 8,\n",
       "   'data science masters': 8,\n",
       "   'jawa with dsa  and system design': 7}),\n",
       " ('mentor', ['rishikesh', 'rahul', 'sanjeev', 'anurag'])]"
      ]
     },
     "execution_count": 35,
     "metadata": {},
     "output_type": "execute_result"
    }
   ],
   "source": [
    "list(d6.items())"
   ]
  },
  {
   "cell_type": "code",
   "execution_count": 37,
   "id": "50793298-ca9d-4d3c-8af5-8e31a01893ea",
   "metadata": {},
   "outputs": [
    {
     "ename": "AttributeError",
     "evalue": "'dict' object has no attribute 'value'",
     "output_type": "error",
     "traceback": [
      "\u001b[0;31m---------------------------------------------------------------------------\u001b[0m",
      "\u001b[0;31mAttributeError\u001b[0m                            Traceback (most recent call last)",
      "Cell \u001b[0;32mIn [37], line 1\u001b[0m\n\u001b[0;32m----> 1\u001b[0m \u001b[38;5;28mlist\u001b[39m(\u001b[43md6\u001b[49m\u001b[38;5;241;43m.\u001b[39;49m\u001b[43mvalue\u001b[49m())\n",
      "\u001b[0;31mAttributeError\u001b[0m: 'dict' object has no attribute 'value'"
     ]
    }
   ],
   "source": [
    "list(d6.value())"
   ]
  },
  {
   "cell_type": "code",
   "execution_count": 42,
   "id": "74e89aa2-f287-4988-b649-78f490fd7f95",
   "metadata": {},
   "outputs": [
    {
     "data": {
      "text/plain": [
       "['rishikesh', 'rahul', 'sanjeev', 'anurag']"
      ]
     },
     "execution_count": 42,
     "metadata": {},
     "output_type": "execute_result"
    }
   ],
   "source": [
    "d6.pop('mentor')"
   ]
  },
  {
   "cell_type": "code",
   "execution_count": 59,
   "id": "62c04eff-3e52-42c8-bc79-5a584667369c",
   "metadata": {},
   "outputs": [
    {
     "name": "stdin",
     "output_type": "stream",
     "text": [
      "enter your marks 60\n"
     ]
    },
    {
     "name": "stdout",
     "output_type": "stream",
     "text": [
      "you will be a part of A1 batch\n"
     ]
    }
   ],
   "source": [
    "marks = int(input('enter your marks'))\n",
    "if marks >= 80: \n",
    "    print(\"you will be a part of A0 batch\")\n",
    "elif marks >= 60 and marks < 80:\n",
    "    print(\"you will be a part of A1 batch\")\n",
    "elif marks >= 40 and marks < 60 : \n",
    "    print(\"you will be a part of A2 batch\")\n",
    "else : \n",
    "    print(\"you will be a part of A3 batch\") "
   ]
  },
  {
   "cell_type": "code",
   "execution_count": 49,
   "id": "9d3b94fc-2947-4987-85b3-f1b9b6a49a1b",
   "metadata": {},
   "outputs": [
    {
     "data": {
      "text/plain": [
       "False"
      ]
     },
     "execution_count": 49,
     "metadata": {},
     "output_type": "execute_result"
    }
   ],
   "source": [
    "10>=80"
   ]
  },
  {
   "cell_type": "code",
   "execution_count": 50,
   "id": "7dbf8788-e79c-4492-b1b8-b7419a20fbd3",
   "metadata": {},
   "outputs": [
    {
     "data": {
      "text/plain": [
       "False"
      ]
     },
     "execution_count": 50,
     "metadata": {},
     "output_type": "execute_result"
    }
   ],
   "source": [
    "40>=50"
   ]
  },
  {
   "cell_type": "code",
   "execution_count": 51,
   "id": "88100458-a0d1-4775-8de2-203af97b47aa",
   "metadata": {},
   "outputs": [
    {
     "data": {
      "text/plain": [
       "True"
      ]
     },
     "execution_count": 51,
     "metadata": {},
     "output_type": "execute_result"
    }
   ],
   "source": [
    "40<=50"
   ]
  },
  {
   "cell_type": "code",
   "execution_count": 52,
   "id": "f422c97b-67fc-464a-b052-5b9b1e81fba9",
   "metadata": {},
   "outputs": [
    {
     "data": {
      "text/plain": [
       "True"
      ]
     },
     "execution_count": 52,
     "metadata": {},
     "output_type": "execute_result"
    }
   ],
   "source": [
    "70<80"
   ]
  },
  {
   "cell_type": "code",
   "execution_count": 58,
   "id": "470031f0-7681-4d44-ae96-eeb132096d34",
   "metadata": {},
   "outputs": [
    {
     "name": "stdin",
     "output_type": "stream",
     "text": [
      "enter your marks 45\n"
     ]
    }
   ],
   "source": [
    "marks = int(input('enter your marks'))"
   ]
  },
  {
   "cell_type": "code",
   "execution_count": 60,
   "id": "677dd447-4d30-4552-816f-95affce743c5",
   "metadata": {},
   "outputs": [
    {
     "data": {
      "text/plain": [
       "int"
      ]
     },
     "execution_count": 60,
     "metadata": {},
     "output_type": "execute_result"
    }
   ],
   "source": [
    "type(marks)"
   ]
  },
  {
   "cell_type": "code",
   "execution_count": 68,
   "id": "26a9ceb3-8a6b-45f7-98be-1044ad1867c1",
   "metadata": {},
   "outputs": [
    {
     "name": "stdin",
     "output_type": "stream",
     "text": [
      "enter price 500\n"
     ]
    },
    {
     "name": "stdout",
     "output_type": "stream",
     "text": [
      "i will purchase\n"
     ]
    }
   ],
   "source": [
    "price = int(input('enter price'))\n",
    "if price > 1000:\n",
    "    print(\"i will not purchase\")\n",
    "else :\n",
    "    print(\"i will purchase\")"
   ]
  },
  {
   "cell_type": "code",
   "execution_count": 71,
   "id": "60bf260a-9135-48ec-b2df-b078a9983d5a",
   "metadata": {},
   "outputs": [
    {
     "name": "stdin",
     "output_type": "stream",
     "text": [
      "enter price 1500\n"
     ]
    },
    {
     "name": "stdout",
     "output_type": "stream",
     "text": [
      "i will not purchase\n",
      "its ok\n"
     ]
    }
   ],
   "source": [
    "price = int(input('enter price'))\n",
    "if price > 1000:\n",
    "    print(\"i will not purchase\")\n",
    "    if price > 5000: \n",
    "        print(\"this is too much\")\n",
    "    elif price< 2000:\n",
    "        print(\"its ok\")"
   ]
  },
  {
   "cell_type": "code",
   "execution_count": 74,
   "id": "91e1813c-e6bb-427e-965c-d8ff15c5b46e",
   "metadata": {},
   "outputs": [],
   "source": [
    "l= [1,2,3,4,5,6,7,8,9]"
   ]
  },
  {
   "cell_type": "code",
   "execution_count": 76,
   "id": "566d721c-715c-4b07-9fd5-0f3577be72ba",
   "metadata": {},
   "outputs": [
    {
     "name": "stdout",
     "output_type": "stream",
     "text": [
      "1\n",
      "2\n",
      "3\n",
      "4\n",
      "5\n",
      "6\n",
      "7\n",
      "8\n",
      "9\n"
     ]
    }
   ],
   "source": [
    "for i in l:\n",
    "    print(i)"
   ]
  },
  {
   "cell_type": "code",
   "execution_count": 77,
   "id": "6119db33-150c-479f-8462-2aefeb397350",
   "metadata": {},
   "outputs": [
    {
     "name": "stdout",
     "output_type": "stream",
     "text": [
      "2\n",
      "3\n",
      "4\n",
      "5\n",
      "6\n",
      "7\n",
      "8\n",
      "9\n",
      "10\n"
     ]
    }
   ],
   "source": [
    "for i in l:\n",
    "    print(i+1)"
   ]
  },
  {
   "cell_type": "code",
   "execution_count": 93,
   "id": "8bf8d04c-e2ba-4228-87ef-f178ed6bcd64",
   "metadata": {},
   "outputs": [
    {
     "ename": "TypeError",
     "evalue": "can only concatenate str (not \"int\") to str",
     "output_type": "error",
     "traceback": [
      "\u001b[0;31m---------------------------------------------------------------------------\u001b[0m",
      "\u001b[0;31mTypeError\u001b[0m                                 Traceback (most recent call last)",
      "Cell \u001b[0;32mIn [93], line 3\u001b[0m\n\u001b[1;32m      1\u001b[0m l1 \u001b[38;5;241m=\u001b[39m []\n\u001b[1;32m      2\u001b[0m \u001b[38;5;28;01mfor\u001b[39;00m i \u001b[38;5;129;01min\u001b[39;00m l:\n\u001b[0;32m----> 3\u001b[0m     \u001b[38;5;28mprint\u001b[39m(\u001b[43mi\u001b[49m\u001b[38;5;241;43m+\u001b[39;49m\u001b[38;5;241;43m1\u001b[39;49m)\n\u001b[1;32m      4\u001b[0m     l1\u001b[38;5;241m.\u001b[39mappend(i\u001b[38;5;241m+\u001b[39m\u001b[38;5;241m1\u001b[39m)\n\u001b[1;32m      5\u001b[0m l1\n",
      "\u001b[0;31mTypeError\u001b[0m: can only concatenate str (not \"int\") to str"
     ]
    }
   ],
   "source": [
    "l1 = []\n",
    "for i in l:\n",
    "    print(i+1)\n",
    "    l1.append(i+1)\n",
    "l1"
   ]
  },
  {
   "cell_type": "code",
   "execution_count": 94,
   "id": "cdf786cd-76b0-4bab-90f3-1579cd191210",
   "metadata": {},
   "outputs": [
    {
     "data": {
      "text/plain": [
       "[]"
      ]
     },
     "execution_count": 94,
     "metadata": {},
     "output_type": "execute_result"
    }
   ],
   "source": [
    "l1"
   ]
  },
  {
   "cell_type": "code",
   "execution_count": 87,
   "id": "9fbcf306-664e-4e09-8071-29d059d18b97",
   "metadata": {},
   "outputs": [],
   "source": [
    "l = ['sudh' , 'kumar' , 'pwskills' , 'course']"
   ]
  },
  {
   "cell_type": "code",
   "execution_count": 90,
   "id": "0bf14661-6f4d-4980-86bf-12a75217fe3e",
   "metadata": {},
   "outputs": [
    {
     "name": "stdout",
     "output_type": "stream",
     "text": [
      "sudh\n",
      "kumar\n",
      "pwskills\n",
      "course\n"
     ]
    }
   ],
   "source": [
    "l1 = []\n",
    "for i in l :\n",
    "    print(i)\n",
    "    l1.append(i.upper())"
   ]
  },
  {
   "cell_type": "code",
   "execution_count": 91,
   "id": "c204ce4f-8832-4a6a-8758-fc5361ceebed",
   "metadata": {},
   "outputs": [
    {
     "data": {
      "text/plain": [
       "['SUDH', 'KUMAR', 'PWSKILLS', 'COURSE']"
      ]
     },
     "execution_count": 91,
     "metadata": {},
     "output_type": "execute_result"
    }
   ],
   "source": [
    "l1"
   ]
  },
  {
   "cell_type": "code",
   "execution_count": 95,
   "id": "9af87b75-fef3-41b1-8d3c-e77a22c0fd75",
   "metadata": {},
   "outputs": [],
   "source": [
    "l = [1,1,2,3,4,5, 'sudh' , 'kumar' , 324,34.567, 'abc']"
   ]
  },
  {
   "cell_type": "code",
   "execution_count": 98,
   "id": "3f1945c4-3b1b-42f8-8ff8-67dc6579d314",
   "metadata": {},
   "outputs": [],
   "source": [
    "l1_num = []\n",
    "l2_str = []\n",
    "for i in l :\n",
    "    if type(i)== int or type(i) == float:\n",
    "        l1_num.append(i)\n",
    "    else: \n",
    "            l2_str.append(i)"
   ]
  },
  {
   "cell_type": "code",
   "execution_count": 99,
   "id": "e475500b-d8b7-4a7e-8edc-268f5abcccb5",
   "metadata": {},
   "outputs": [
    {
     "data": {
      "text/plain": [
       "[1, 1, 2, 3, 4, 5, 324, 34.567]"
      ]
     },
     "execution_count": 99,
     "metadata": {},
     "output_type": "execute_result"
    }
   ],
   "source": [
    "l1_num"
   ]
  },
  {
   "cell_type": "code",
   "execution_count": 100,
   "id": "47575c30-38fe-44ce-a375-de2241763d77",
   "metadata": {},
   "outputs": [
    {
     "data": {
      "text/plain": [
       "['sudh', 'kumar', 'abc']"
      ]
     },
     "execution_count": 100,
     "metadata": {},
     "output_type": "execute_result"
    }
   ],
   "source": [
    "l2_str"
   ]
  },
  {
   "cell_type": "code",
   "execution_count": null,
   "id": "777719eb-6f8a-4100-bb3e-e04e58188f4b",
   "metadata": {},
   "outputs": [],
   "source": []
  }
 ],
 "metadata": {
  "kernelspec": {
   "display_name": "Python 3 (ipykernel)",
   "language": "python",
   "name": "python3"
  },
  "language_info": {
   "codemirror_mode": {
    "name": "ipython",
    "version": 3
   },
   "file_extension": ".py",
   "mimetype": "text/x-python",
   "name": "python",
   "nbconvert_exporter": "python",
   "pygments_lexer": "ipython3",
   "version": "3.10.6"
  },
  "toc-autonumbering": true,
  "toc-showcode": true,
  "toc-showmarkdowntxt": false
 },
 "nbformat": 4,
 "nbformat_minor": 5
}
