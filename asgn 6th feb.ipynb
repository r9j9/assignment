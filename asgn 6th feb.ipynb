{
 "cells": [
  {
   "cell_type": "code",
   "execution_count": 1,
   "id": "e9230005-7179-4ffa-acfc-268e76250a3f",
   "metadata": {},
   "outputs": [
    {
     "name": "stdout",
     "output_type": "stream",
     "text": [
      "[1, 2, 3, 4, 44, 55, 66, True, False, 34, 56, 78, 89, 34, 1, 2, 3, 1, 34, 'key2', 55, 67, 78, 89, 4, 45, 22, 61, 34, 56, 'data science', 'Machine Learning']\n",
      "4134711838987085478833841242112000\n"
     ]
    }
   ],
   "source": [
    "#     Q1. Create a function which will take a list as an argument and return the product of all the numbers\n",
    "#         after creating a flat list.\n",
    "#         Use the below-given list as an argument for your function.\n",
    "\n",
    "#    Ans:\n",
    "list1 = [1,2,3,4, [44,55,66, True], False, (34,56,78,89,34), {1,2,3,3,2,1}, {1:34, \"key2\": [55, 67, 78, 89], 4: (45,\n",
    "22, 61, 34)}, [56, 'data science'], 'Machine Learning']\n",
    "def flatlist(list1):\n",
    "    flist=[]\n",
    "    for i in list1:\n",
    "        if type(i)==list or type(i)==tuple or type(i)==set:\n",
    "            for element in i:\n",
    "                flist.append(element)\n",
    "        elif type(i)==dict:\n",
    "            temp_list=list(i.items())\n",
    "            for i in temp_list: # [(1, 34), ('key2', [55, 67, 78, 89]), (4, (45, 22, 61, 34))\n",
    "                for element in i:\n",
    "                    if type(element)==list or type(element)==tuple:\n",
    "                        for j in element:\n",
    "                            flist.append(j)\n",
    "                    else:\n",
    "                        flist.append(element)\n",
    "        else:\n",
    "            flist.append(i)\n",
    "    return flist\n",
    "list2=flatlist(list1)\n",
    "print(list2)\n",
    "a=1\n",
    "for i in list2:\n",
    "    if type(i)==int:\n",
    "        a=a*i\n",
    "print(a)"
   ]
  },
  {
   "cell_type": "code",
   "execution_count": 19,
   "id": "cab5b263-c4ab-4ab7-8de2-79ad01d2db6a",
   "metadata": {},
   "outputs": [
    {
     "name": "stdout",
     "output_type": "stream",
     "text": [
      "i want to become a data scientist.\n"
     ]
    }
   ],
   "source": [
    "#Q2. Write a python program for encrypting a message sent to you by your friend. The logic of encryption\n",
    "#    should be such that, for a the output should be z. For b, the output should be y. For c, the output should\n",
    "#    be x respectively. Also, the whitespace should be replaced with a dollar sign. Keep the punctuation\n",
    "#    marks unchanged.\n",
    "#    Input Sentence: I want to become a Data Scientist.\n",
    "#    Encrypt the above input sentence using the program you just created.\n",
    "\n",
    "#    Ans:\n",
    "# Define the input sentence\n",
    "# input_sentence = 'I want to become a Data Scientist.'\n",
    "\n",
    "# Define the input sentence\n",
    "input_sentence = 'I want to become a Data Scientist.'\n",
    "\n",
    "# Convert the input sentence to lowercase\n",
    "input_sentence = input_sentence.lower()\n",
    "\n",
    "# Encrypt the input sentence\n",
    "encrypted_sentence = ''\n",
    "encryption_mapping = []\n",
    "for c in input_sentence:\n",
    "    if c in encryption_mapping:\n",
    "        # If the character is a letter, encrypt it using the encryption mapping\n",
    "        encrypted_sentence += encryption_mapping[c]\n",
    "    elif c == ' ':\n",
    "        # If the character is a space, replace it with a dollar sign\n",
    "        encrypted_sentence += ' '\n",
    "    else:\n",
    "        # If the character is not a letter or space, leave it unchanged\n",
    "        encrypted_sentence += c\n",
    "\n",
    "# Print the encrypted sentence\n",
    "print(encrypted_sentence)"
   ]
  },
  {
   "cell_type": "code",
   "execution_count": null,
   "id": "6f233827-b9c8-48cf-bd5f-9a212a323374",
   "metadata": {},
   "outputs": [],
   "source": []
  }
 ],
 "metadata": {
  "kernelspec": {
   "display_name": "Python 3 (ipykernel)",
   "language": "python",
   "name": "python3"
  },
  "language_info": {
   "codemirror_mode": {
    "name": "ipython",
    "version": 3
   },
   "file_extension": ".py",
   "mimetype": "text/x-python",
   "name": "python",
   "nbconvert_exporter": "python",
   "pygments_lexer": "ipython3",
   "version": "3.10.8"
  }
 },
 "nbformat": 4,
 "nbformat_minor": 5
}
