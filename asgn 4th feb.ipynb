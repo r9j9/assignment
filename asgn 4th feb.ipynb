{
 "cells": [
  {
   "cell_type": "code",
   "execution_count": 14,
   "id": "4ecc203f-4412-4579-8328-c1407197ed51",
   "metadata": {},
   "outputs": [
    {
     "name": "stdout",
     "output_type": "stream",
     "text": [
      "Original list of run scored by player:\n",
      "[('Sachin Tendulkar', 34357), ('Ricky Ponting', 27483), ('Jack Kallis', 25534), ('Virat Kohli', 24936)]\n",
      "\n",
      "Sorting the List of total_run scored by player:\n",
      "[('Virat Kohli', 24936), ('Jack Kallis', 25534), ('Ricky Ponting', 27483), ('Sachin Tendulkar', 34357)]\n"
     ]
    }
   ],
   "source": [
    "#  Q1. Create a python program to sort the given list of tuples based on integer value using a\n",
    "#      lambda function.\n",
    "\n",
    "total_run = [('Sachin Tendulkar', 34357), ('Ricky Ponting', 27483), ('Jack Kallis', 25534), ('Virat Kohli', 24936)]\n",
    "\n",
    "print(\"Original list of run scored by player:\")\n",
    "print(total_run)\n",
    "total_run.sort(key = lambda x: x[1])\n",
    "print(\"\\nSorting the List of total_run scored by player:\")\n",
    "print(total_run)"
   ]
  },
  {
   "cell_type": "code",
   "execution_count": 19,
   "id": "a10fc625-ec06-4209-827a-9276743f5249",
   "metadata": {},
   "outputs": [
    {
     "name": "stdout",
     "output_type": "stream",
     "text": [
      "Original list of integers:\n",
      "[1, 2, 3, 4, 5, 6, 7, 8, 9, 10]\n",
      "\n",
      "Square every number of the above list:\n",
      "[1, 4, 9, 16, 25, 36, 49, 64, 81, 100]\n"
     ]
    }
   ],
   "source": [
    "#   Q2. Write a Python Program to find the squares of all the numbers in the given list of integers using\n",
    "#      lambda and map functions.\n",
    "l = [1, 2, 3, 4, 5, 6, 7, 8, 9, 10]\n",
    "#     by using lambda and map functions\n",
    "\n",
    "print(\"Original list of integers:\")\n",
    "print(l)\n",
    "print(\"\\nSquare every number of the above list:\")\n",
    "square_nums = list(map(lambda x: x ** 2, l))\n",
    "print(square_nums)"
   ]
  },
  {
   "cell_type": "code",
   "execution_count": 25,
   "id": "d0659676-dd90-42af-a048-04a038f9e10f",
   "metadata": {
    "jupyter": {
     "source_hidden": true
    },
    "tags": []
   },
   "outputs": [
    {
     "name": "stdout",
     "output_type": "stream",
     "text": [
      "original list of integrs:\n",
      "[1, 2, 3, 4, 5, 6, 7, 8, 9, 10]\n",
      "tuple of strings: \n",
      "['1', '2', '3', '4', '5', '6', '7', '8', '9', '10']\n"
     ]
    }
   ],
   "source": [
    "#   Q3. Write a python program to convert the given list of integers into a tuple of strings. Use map and\n",
    "#       lambda functions\n",
    "list_integers = [1, 2, 3, 4, 5, 6, 7, 8, 9, 10]\n",
    "\n",
    "print(\"original list of integrs:\")\n",
    "print(list_integers)\n",
    "tuple_strings = list(map(str,list_integers))\n",
    "\n",
    "print(\"tuple of strings: \")\n",
    "print(tuple_strings)"
   ]
  },
  {
   "cell_type": "code",
   "execution_count": 31,
   "id": "2dc0e6b1-d5d5-4854-9368-f8c1bd3e4ff5",
   "metadata": {},
   "outputs": [],
   "source": [
    "#  Q4. Write a python program using reduce function to compute the product of a list containing numbers\n",
    "#      from 1 to 25.\n",
    "\n",
    "from functools import reduce"
   ]
  },
  {
   "cell_type": "code",
   "execution_count": 37,
   "id": "b3991c25-1ca6-4f93-a2fb-5db535a4f18c",
   "metadata": {},
   "outputs": [],
   "source": [
    "l = list(range(1,25+1))"
   ]
  },
  {
   "cell_type": "code",
   "execution_count": 38,
   "id": "cfcc3db0-19a7-47c6-83b8-1c58c1a163d7",
   "metadata": {},
   "outputs": [
    {
     "name": "stdout",
     "output_type": "stream",
     "text": [
      "[1, 2, 3, 4, 5, 6, 7, 8, 9, 10, 11, 12, 13, 14, 15, 16, 17, 18, 19, 20, 21, 22, 23, 24, 25]\n"
     ]
    }
   ],
   "source": [
    "print(l)"
   ]
  },
  {
   "cell_type": "code",
   "execution_count": 39,
   "id": "557b2504-2b62-430c-85a5-2c905166bb33",
   "metadata": {},
   "outputs": [
    {
     "data": {
      "text/plain": [
       "15511210043330985984000000"
      ]
     },
     "execution_count": 39,
     "metadata": {},
     "output_type": "execute_result"
    }
   ],
   "source": [
    "reduce(lambda x,y: x*y, l)"
   ]
  },
  {
   "cell_type": "code",
   "execution_count": 49,
   "id": "108ea8a3-bb73-499c-9dff-f1eb257f4f98",
   "metadata": {},
   "outputs": [
    {
     "data": {
      "text/plain": [
       "[2, 3, 6, 9, 27, 60, 90, 120, 46]"
      ]
     },
     "execution_count": 49,
     "metadata": {},
     "output_type": "execute_result"
    }
   ],
   "source": [
    "#  Q5. Write a python program to filter the numbers in a given list that are divisible by 2 and 3 using the\n",
    "#      filter function.\n",
    "l = [2, 3, 6, 9, 27, 60, 90, 120, 55, 46]\n",
    "\n",
    "list(filter(lambda x: x % 2 ==0 or x % 3 == 0, l))"
   ]
  },
  {
   "cell_type": "code",
   "execution_count": 56,
   "id": "0b3ad302-d467-438e-8f44-4c103ef0df6e",
   "metadata": {},
   "outputs": [
    {
     "data": {
      "text/plain": [
       "<filter at 0x7fe9c424aef0>"
      ]
     },
     "execution_count": 56,
     "metadata": {},
     "output_type": "execute_result"
    }
   ],
   "source": [
    "#   Q6. Write a python program to find palindromes in the given list of strings using lambda and filter\n",
    "#       function.\n",
    "l_str = ['python', 'php', 'aba', 'radar', 'level']\n",
    "\n",
    "print(\"Orginal list of strings:\")\n",
    "print(l_str) \n",
    "result = list(filter(lambda x: (x == \"\".join(reversed(x))), texts)) \n",
    "print(\"\\nList of palindromes:\")\n",
    "print(result)"
   ]
  },
  {
   "cell_type": "code",
   "execution_count": null,
   "id": "7538f2e1-fe88-468e-9709-b1150d669628",
   "metadata": {},
   "outputs": [],
   "source": []
  }
 ],
 "metadata": {
  "kernelspec": {
   "display_name": "Python 3 (ipykernel)",
   "language": "python",
   "name": "python3"
  },
  "language_info": {
   "codemirror_mode": {
    "name": "ipython",
    "version": 3
   },
   "file_extension": ".py",
   "mimetype": "text/x-python",
   "name": "python",
   "nbconvert_exporter": "python",
   "pygments_lexer": "ipython3",
   "version": "3.10.8"
  }
 },
 "nbformat": 4,
 "nbformat_minor": 5
}
