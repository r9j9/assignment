{
 "cells": [
  {
   "cell_type": "code",
   "execution_count": 14,
   "id": "0853ab2e-1e3d-49b3-9776-a402c072c91b",
   "metadata": {},
   "outputs": [
    {
     "name": "stdin",
     "output_type": "stream",
     "text": [
      "Enter the percentage 91\n"
     ]
    },
    {
     "name": "stdout",
     "output_type": "stream",
     "text": [
      "You got A grade\n"
     ]
    }
   ],
   "source": [
    "# 1.Write a program to accept percentage from the user and display the grade according to the following criteria:\n",
    "\n",
    "#      Marks                   grade\n",
    "#      >90                     A\n",
    "#      >80 and <=90            B\n",
    "#      >=60 and <=80           C\n",
    "#      Below 60                D\n",
    "percentage = int(input(\"Enter the percentage\"))\n",
    "if percentage >90:\n",
    "    print(\"You got A grade\")\n",
    "elif percentage >80 and percentage <=90:\n",
    "    print(\"You got B grade\")\n",
    "elif percentage >=60 and percentage <=80:\n",
    "    print(\"You got C grade\")\n",
    "else:\n",
    "    print(\"you got D grade\")"
   ]
  },
  {
   "cell_type": "code",
   "execution_count": 15,
   "id": "5ba257e1-15b9-4bba-b474-8ae13fb4b04e",
   "metadata": {},
   "outputs": [
    {
     "name": "stdin",
     "output_type": "stream",
     "text": [
      "what is the cost_price of the bike:  100000\n"
     ]
    },
    {
     "name": "stdout",
     "output_type": "stream",
     "text": [
      "tax to be paid 10000.0\n"
     ]
    }
   ],
   "source": [
    "# 2. Write a program to accept the cost price of a bike and display the road tax to be paid according to the following criteria:\n",
    "\n",
    "#           Tax                        Cost price(in rupee)\n",
    "#           15%                        > 100000\n",
    "#           10%                        > 50000 and <=100000\n",
    "#           5%                         < = 50000\n",
    "\n",
    "tax = 0\n",
    "cost_price = int(input(\"what is the cost_price of the bike: \")) \n",
    "if cost_price >100000:\n",
    "    tax = 15/100*cost_price\n",
    "elif cost_price >50000 and cost_price <=100000:\n",
    "    tax = 10/100*cost_price\n",
    "else :\n",
    "    tax = 5/100*cost_price\n",
    "print(\"tax to be paid\" , tax)"
   ]
  },
  {
   "cell_type": "code",
   "execution_count": 17,
   "id": "d04eb94e-c32f-4133-b39e-4de873069a82",
   "metadata": {},
   "outputs": [
    {
     "name": "stdin",
     "output_type": "stream",
     "text": [
      "enter a city Delhi\n"
     ]
    },
    {
     "name": "stdout",
     "output_type": "stream",
     "text": [
      "Red Fort\n"
     ]
    }
   ],
   "source": [
    "# 3. Accept any city from the user and display monuments of that city:\n",
    "\n",
    "#             city                  Monument\n",
    "#             Delhi                 Red Fort\n",
    "#             Agra                  Taj Mahal\n",
    "#             Jaipur                Jai Mahal\n",
    "\n",
    "city = input(\"enter a city\")\n",
    "if city.capitalize() == \"Delhi\":\n",
    "    print(\"Red Fort\")\n",
    "elif city.capitalize() == \"Agra\":\n",
    "    print(\"Taj Mahal\")\n",
    "elif city.capitalize() == \"Jaipur\":\n",
    "    print(\"Jai Mahal\")\n",
    "else :\n",
    "    print(\"enter a valid city\")"
   ]
  },
  {
   "cell_type": "code",
   "execution_count": 26,
   "id": "e68cffba-820a-411e-bc67-2d08faab47e1",
   "metadata": {},
   "outputs": [
    {
     "name": "stdin",
     "output_type": "stream",
     "text": [
      "enter the number 11\n"
     ]
    },
    {
     "name": "stdout",
     "output_type": "stream",
     "text": [
      "[] is not divisible by 3\n"
     ]
    }
   ],
   "source": [
    "# 4. check how many times a given numeber can be divided by 3 before it is less than or equal to 10.\n",
    "number = [1,2,3,4,5,6,7,8,9,10]\n",
    "number = int(input(\"enter the number\"))\n",
    "if number%3 == 0:\n",
    "    print(\"[] is divisible by 3\")\n",
    "else :\n",
    "    print(\"[] is not divisible by 3\")"
   ]
  },
  {
   "cell_type": "markdown",
   "id": "09709e96-b0a8-493b-9164-197c53852dcf",
   "metadata": {},
   "source": [
    "# 5. Why and when to use while loop in python? Give a detailed description with example.\n",
    "Ans: In programing, loops are used to repeat a block of code. for exsample, if we want to show a message hundred times, then we can use a loop. It's just a simple example, we can achive much morewith loops.\n",
    "python while loops is used to run a block code until acertain condition is met.\n",
    "here:\n",
    "1. A while loop evaluates the condition.\n",
    "2. If the condition is evaluated to true, the code inside the while loop is executed.\n",
    "3. Condition is evaluated again.\n",
    "4. This process continues until the condition is false.\n",
    "5. When condition evaluates to false, the loop stops."
   ]
  },
  {
   "cell_type": "code",
   "execution_count": 28,
   "id": "ed6028c5-827d-4af1-8dc0-b29c7f44d33e",
   "metadata": {},
   "outputs": [
    {
     "name": "stdout",
     "output_type": "stream",
     "text": [
      "1\n",
      "2\n",
      "3\n",
      "4\n",
      "5\n"
     ]
    }
   ],
   "source": [
    "#example of while loop\n",
    "\n",
    "\n",
    "# initialize the variable\n",
    "i = 1\n",
    "n = 5 \n",
    "# while loop from 1 = 1 to 5\n",
    "while i <= n:\n",
    "    print(i)\n",
    "    i = i+1"
   ]
  },
  {
   "cell_type": "code",
   "execution_count": null,
   "id": "81566619-e628-449a-b022-f342d440cc6e",
   "metadata": {},
   "outputs": [],
   "source": [
    "#example of while loop\n",
    " # the test condition is always true\n",
    "age = 32\n",
    "age= int(input(\"what is your age\"))\n",
    "while age > 18:\n",
    "    print(\"you can vote\")"
   ]
  },
  {
   "cell_type": "code",
   "execution_count": null,
   "id": "9349f3a1-fa1c-4f13-9efd-49f5e4190ff1",
   "metadata": {},
   "outputs": [],
   "source": [
    "#example of while loop\n",
    "# program to calculate the sum of the numbers \n",
    "# until the user enters zero\n",
    "\n",
    "total = 0\n",
    "number = int(input(\"enter a number: \"))\n",
    "\n",
    "# add numbers until numbers is zero\n",
    "while number == 0 :\n",
    "    total == total+number # total = total + number \n",
    "    \n",
    "    #take integer input again\n",
    "    number == int(input(\"enter a number: \")) \n",
    "print('total',total)"
   ]
  },
  {
   "cell_type": "code",
   "execution_count": null,
   "id": "4ae6f44d-af44-40a8-bee9-6276d2d0cb2b",
   "metadata": {},
   "outputs": [],
   "source": [
    "# 6. use nested while loop to print 3 different patterns.\n",
    "# nested while loop contains two basic components:\n",
    "# 1. Outer while loop\n",
    "# 2. Inner while loop\n",
    "# example of nested while loop\n",
    "\n",
    "synonyms = ['pretty', 'alluring', 'lovely']\n",
    "counter = 3\n",
    "while counter >0:\n",
    "    answer = input (\"What is the synonym of 'beautiful': \")\n",
    "    status = True\n",
    "    i=0\n",
    "    while i<len(synonyms):\n",
    "        if (synonyms[i] == answer):\n",
    "            print(\"correct!!\")\n",
    "            counter = -1\n",
    "            break\n",
    "        else:\n",
    "            status = False\n",
    "        i=i+1\n",
    "    if (status == False):\n",
    "        print(\"incorrect!!\")\n",
    "        counter= counter-1\n",
    "        print(\"you have {counter} chances\")"
   ]
  },
  {
   "cell_type": "code",
   "execution_count": null,
   "id": "63abae25-8050-4d38-bb0e-087912bf4d2a",
   "metadata": {},
   "outputs": [],
   "source": [
    "# 7. Reverse a while to display numbers from 10 to 1.\n",
    "\n",
    "i=10\n",
    "while i>=1:\n",
    "    print(i,end=' ')\n",
    "    i-=1"
   ]
  },
  {
   "cell_type": "code",
   "execution_count": null,
   "id": "d39e3853-16fe-4c0c-96fe-3e26d4b83ae3",
   "metadata": {},
   "outputs": [],
   "source": [
    "# 8. Reverse a while loop to display numbers from 10 to 1\n",
    "i= 1 \n",
    "while i =10:\n",
    "    print(11-i,end' ')\n",
    "    i+=1"
   ]
  },
  {
   "cell_type": "code",
   "execution_count": null,
   "id": "c7b207c0-09ca-449d-a911-13e35c684918",
   "metadata": {},
   "outputs": [],
   "source": []
  }
 ],
 "metadata": {
  "kernelspec": {
   "display_name": "Python 3 (ipykernel)",
   "language": "python",
   "name": "python3"
  },
  "language_info": {
   "codemirror_mode": {
    "name": "ipython",
    "version": 3
   },
   "file_extension": ".py",
   "mimetype": "text/x-python",
   "name": "python",
   "nbconvert_exporter": "python",
   "pygments_lexer": "ipython3",
   "version": "3.10.8"
  }
 },
 "nbformat": 4,
 "nbformat_minor": 5
}
