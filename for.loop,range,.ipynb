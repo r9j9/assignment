{
 "cells": [
  {
   "cell_type": "code",
   "execution_count": 63,
   "id": "4b6c3363-d882-4b9e-8914-8beb8d13d87f",
   "metadata": {},
   "outputs": [
    {
     "name": "stdout",
     "output_type": "stream",
     "text": [
      "['0', '10', '20', '30', '40', '50']\n"
     ]
    }
   ],
   "source": [
    "list_out=[]\n",
    "for i in range(0,51,10):\n",
    "    list_out.append(str(i))\n",
    "print(list_out)"
   ]
  },
  {
   "cell_type": "code",
   "execution_count": 4,
   "id": "bbcf31ec-991d-40a3-98a7-787aba7339fa",
   "metadata": {},
   "outputs": [
    {
     "name": "stdout",
     "output_type": "stream",
     "text": [
      "{1, 4, 9, 16, 25}\n"
     ]
    }
   ],
   "source": [
    "numbers=(1,2,3,4,5,5,4,3,2,1)\n",
    "list=[]\n",
    "for number in numbers:\n",
    "    list.append(number**2)\n",
    "print(set(list))"
   ]
  },
  {
   "cell_type": "code",
   "execution_count": 1,
   "id": "d4dc4055-c687-41e3-8821-1df8d4cadfe7",
   "metadata": {},
   "outputs": [],
   "source": [
    "l1=[\"rishikesh\", \"ranjan\", \"rahul\", \"ranjan\", \"abhineet\", \"ranjan\"]\n"
   ]
  },
  {
   "cell_type": "code",
   "execution_count": 2,
   "id": "f710c145-975e-464b-a1d1-bbb66b7a657d",
   "metadata": {},
   "outputs": [
    {
     "name": "stdout",
     "output_type": "stream",
     "text": [
      "rishikesh\n",
      "ranjan\n",
      "rahul\n",
      "ranjan\n",
      "abhineet\n",
      "ranjan\n"
     ]
    }
   ],
   "source": [
    "for i in l1:\n",
    "    print(i)"
   ]
  },
  {
   "cell_type": "code",
   "execution_count": 3,
   "id": "c781f6e9-46b3-44a1-8b89-4d863635f7b2",
   "metadata": {},
   "outputs": [
    {
     "name": "stdout",
     "output_type": "stream",
     "text": [
      "rishikesh\n",
      "ranjan\n",
      "rahul\n",
      "ranjan\n",
      "abhineet\n",
      "ranjan\n",
      "if for loop is able to complete itself then only else will execute\n"
     ]
    }
   ],
   "source": [
    "for i in l1:\n",
    "    print(i)\n",
    "else:\n",
    "    print(\"if for loop is able to complete itself then only else will execute\")"
   ]
  },
  {
   "cell_type": "code",
   "execution_count": 4,
   "id": "ed6c23da-181a-4395-afb5-7415511120ef",
   "metadata": {},
   "outputs": [
    {
     "data": {
      "text/plain": [
       "['rishikesh', 'ranjan', 'rahul', 'ranjan', 'abhineet', 'ranjan']"
      ]
     },
     "execution_count": 4,
     "metadata": {},
     "output_type": "execute_result"
    }
   ],
   "source": [
    "l1"
   ]
  },
  {
   "cell_type": "code",
   "execution_count": 5,
   "id": "ff4acfcc-ae1f-4c82-a55c-ee6d2cb26d0e",
   "metadata": {},
   "outputs": [
    {
     "name": "stdout",
     "output_type": "stream",
     "text": [
      "rishikesh\n"
     ]
    }
   ],
   "source": [
    "for i in l1:\n",
    "    if i == \"ranjan\":\n",
    "        break\n",
    "    print(i)\n",
    "    "
   ]
  },
  {
   "cell_type": "code",
   "execution_count": 6,
   "id": "29d6a8a5-b4f0-4cbb-924e-c7687e356f31",
   "metadata": {},
   "outputs": [
    {
     "name": "stdout",
     "output_type": "stream",
     "text": [
      "rishikesh\n"
     ]
    }
   ],
   "source": [
    "for i in l1:\n",
    "    if i == \"ranjan\":\n",
    "        break\n",
    "    print(i)\n",
    "else:\n",
    "    print(\"execute this if for loop is able to complete itself\")"
   ]
  },
  {
   "cell_type": "code",
   "execution_count": 7,
   "id": "8e09b101-fdab-48f5-9fd9-bf28127fabe7",
   "metadata": {},
   "outputs": [
    {
     "data": {
      "text/plain": [
       "['rishikesh', 'ranjan', 'rahul', 'ranjan', 'abhineet', 'ranjan']"
      ]
     },
     "execution_count": 7,
     "metadata": {},
     "output_type": "execute_result"
    }
   ],
   "source": [
    "l1"
   ]
  },
  {
   "cell_type": "code",
   "execution_count": 8,
   "id": "c03c1325-1451-4805-bd4f-f92945dfa379",
   "metadata": {},
   "outputs": [
    {
     "name": "stdout",
     "output_type": "stream",
     "text": [
      "rishikesh\n",
      "rahul\n",
      "abhineet\n"
     ]
    }
   ],
   "source": [
    "for i in l1:\n",
    "    if i == \"ranjan\":\n",
    "        continue\n",
    "    print(i)"
   ]
  },
  {
   "cell_type": "code",
   "execution_count": 9,
   "id": "a570e4bc-be2b-4d9a-85ee-7f91472765c8",
   "metadata": {},
   "outputs": [
    {
     "name": "stdout",
     "output_type": "stream",
     "text": [
      "rishikesh\n",
      "rahul\n",
      "abhineet\n",
      "excute this if for loop is able to complete itself\n"
     ]
    }
   ],
   "source": [
    "for i in l1:\n",
    "    if i == \"ranjan\":\n",
    "        continue\n",
    "    print(i)\n",
    "else:\n",
    "    print(\"excute this if for loop is able to complete itself\")"
   ]
  },
  {
   "cell_type": "code",
   "execution_count": 10,
   "id": "3de5514c-7801-405b-bb55-170d37faef67",
   "metadata": {},
   "outputs": [
    {
     "data": {
      "text/plain": [
       "range(0, 5)"
      ]
     },
     "execution_count": 10,
     "metadata": {},
     "output_type": "execute_result"
    }
   ],
   "source": [
    "range(5)"
   ]
  },
  {
   "cell_type": "code",
   "execution_count": 11,
   "id": "0ea97bd3-e4de-46e4-8276-b07df737549d",
   "metadata": {},
   "outputs": [
    {
     "data": {
      "text/plain": [
       "[0, 1, 2, 3, 4]"
      ]
     },
     "execution_count": 11,
     "metadata": {},
     "output_type": "execute_result"
    }
   ],
   "source": [
    "list(range(5))"
   ]
  },
  {
   "cell_type": "code",
   "execution_count": 13,
   "id": "94fd69b8-a63d-4482-8f08-049ee5a442b7",
   "metadata": {},
   "outputs": [
    {
     "data": {
      "text/plain": [
       "[0, 1, 2, 3, 4]"
      ]
     },
     "execution_count": 13,
     "metadata": {},
     "output_type": "execute_result"
    }
   ],
   "source": [
    "list(range(0,5,1))"
   ]
  },
  {
   "cell_type": "code",
   "execution_count": 15,
   "id": "35503e7d-a733-4fa9-b30c-672120093030",
   "metadata": {},
   "outputs": [
    {
     "data": {
      "text/plain": [
       "[0, 5, 10, 15, 20, 25, 30, 35, 40, 45]"
      ]
     },
     "execution_count": 15,
     "metadata": {},
     "output_type": "execute_result"
    }
   ],
   "source": [
    "list(range(0,50,5))"
   ]
  },
  {
   "cell_type": "code",
   "execution_count": 17,
   "id": "45df82a8-e528-429a-b501-e284d04676c7",
   "metadata": {},
   "outputs": [
    {
     "data": {
      "text/plain": [
       "[-20, -15, -10, -5, 0, 5, 10, 15]"
      ]
     },
     "execution_count": 17,
     "metadata": {},
     "output_type": "execute_result"
    }
   ],
   "source": [
    "list(range(-20,20,5))"
   ]
  },
  {
   "cell_type": "code",
   "execution_count": 18,
   "id": "7e216a50-50e7-4831-be48-3e11a3e6425e",
   "metadata": {},
   "outputs": [
    {
     "data": {
      "text/plain": [
       "['rishikesh', 'ranjan', 'rahul', 'ranjan', 'abhineet', 'ranjan']"
      ]
     },
     "execution_count": 18,
     "metadata": {},
     "output_type": "execute_result"
    }
   ],
   "source": [
    "l1"
   ]
  },
  {
   "cell_type": "code",
   "execution_count": 21,
   "id": "62f891eb-c1f9-40fb-b5a0-603e962b95bb",
   "metadata": {},
   "outputs": [
    {
     "data": {
      "text/plain": [
       "6"
      ]
     },
     "execution_count": 21,
     "metadata": {},
     "output_type": "execute_result"
    }
   ],
   "source": [
    "len(l1)"
   ]
  },
  {
   "cell_type": "code",
   "execution_count": 65,
   "id": "5e20dd0c-6a34-4a7d-9e7b-a25216a8c8de",
   "metadata": {},
   "outputs": [
    {
     "data": {
      "text/plain": [
       "[0, 1, 2, 3, 4, 5]"
      ]
     },
     "execution_count": 65,
     "metadata": {},
     "output_type": "execute_result"
    }
   ],
   "source": [
    "list(range(len(l1)))"
   ]
  },
  {
   "cell_type": "code",
   "execution_count": 25,
   "id": "bbc250ff-f484-445b-998d-187439328732",
   "metadata": {},
   "outputs": [
    {
     "name": "stdout",
     "output_type": "stream",
     "text": [
      "rishikesh\n",
      "ranjan\n",
      "rahul\n",
      "ranjan\n",
      "abhineet\n",
      "ranjan\n"
     ]
    }
   ],
   "source": [
    "for i in l1:\n",
    "    print(i)"
   ]
  },
  {
   "cell_type": "code",
   "execution_count": 28,
   "id": "0eb11ae8-3083-4099-b41f-d915dc2a605d",
   "metadata": {},
   "outputs": [
    {
     "name": "stdout",
     "output_type": "stream",
     "text": [
      "rishikesh\n",
      "ranjan\n",
      "rahul\n",
      "ranjan\n",
      "abhineet\n",
      "ranjan\n"
     ]
    }
   ],
   "source": [
    "for i in range(len(l1)):\n",
    "    print(l1[i])"
   ]
  },
  {
   "cell_type": "code",
   "execution_count": 39,
   "id": "785bc046-88e3-4c5a-b4f1-31281b8795b7",
   "metadata": {},
   "outputs": [
    {
     "data": {
      "text/plain": [
       "[6, 5, 4, 3, 2, 1]"
      ]
     },
     "execution_count": 39,
     "metadata": {},
     "output_type": "execute_result"
    }
   ],
   "source": [
    "list(range(len(l1),0,-1))"
   ]
  },
  {
   "cell_type": "code",
   "execution_count": 44,
   "id": "b09803a5-2525-4b1c-8fd7-1470cbb119d6",
   "metadata": {},
   "outputs": [
    {
     "data": {
      "text/plain": [
       "['rishikesh', 'ranjan', 'rahul', 'ranjan', 'abhineet', 'ranjan']"
      ]
     },
     "execution_count": 44,
     "metadata": {},
     "output_type": "execute_result"
    }
   ],
   "source": [
    "l1"
   ]
  },
  {
   "cell_type": "code",
   "execution_count": 46,
   "id": "d9bf9a13-c41a-4e0f-a5e1-a16b7a09c1a8",
   "metadata": {},
   "outputs": [
    {
     "name": "stdout",
     "output_type": "stream",
     "text": [
      "ranjan\n",
      "abhineet\n",
      "ranjan\n",
      "rahul\n",
      "ranjan\n",
      "rishikesh\n"
     ]
    }
   ],
   "source": [
    "for i in range(len(l1)-1,-1,-1):\n",
    "    print(l1[i])"
   ]
  },
  {
   "cell_type": "code",
   "execution_count": 47,
   "id": "65fd740b-6b06-4e7e-8daf-a95ed49249a2",
   "metadata": {},
   "outputs": [],
   "source": [
    "l2=[23,5,45,56,6,67,67,78,87,89,98,99,8,9,9,8998]"
   ]
  },
  {
   "cell_type": "code",
   "execution_count": 49,
   "id": "9c7139df-24a7-42ab-9187-6554418f1ad0",
   "metadata": {},
   "outputs": [
    {
     "data": {
      "text/plain": [
       "[0, 2, 4, 6, 8, 10, 12, 14]"
      ]
     },
     "execution_count": 49,
     "metadata": {},
     "output_type": "execute_result"
    }
   ],
   "source": [
    "list(range(0,len(l2),2))"
   ]
  },
  {
   "cell_type": "code",
   "execution_count": 52,
   "id": "3aaaf522-fba7-420a-a44d-f62b3d67aa25",
   "metadata": {},
   "outputs": [
    {
     "name": "stdout",
     "output_type": "stream",
     "text": [
      "23\n",
      "45\n",
      "6\n",
      "67\n",
      "87\n",
      "98\n",
      "8\n",
      "9\n"
     ]
    }
   ],
   "source": [
    "for i in range(0,len(l2),2):\n",
    "    print(l2[i])"
   ]
  },
  {
   "cell_type": "code",
   "execution_count": 53,
   "id": "62781b8f-acfc-47bd-bb95-f8902a875a14",
   "metadata": {},
   "outputs": [
    {
     "data": {
      "text/plain": [
       "45"
      ]
     },
     "execution_count": 53,
     "metadata": {},
     "output_type": "execute_result"
    }
   ],
   "source": [
    "l2[2]"
   ]
  },
  {
   "cell_type": "code",
   "execution_count": 55,
   "id": "c0e2e93c-c1ff-4b78-98cc-24b502671bcc",
   "metadata": {},
   "outputs": [],
   "source": [
    "l = [1,2,3,4,7,8,98]"
   ]
  },
  {
   "cell_type": "code",
   "execution_count": 56,
   "id": "d068d368-60c0-4e6a-ac67-439685a99096",
   "metadata": {},
   "outputs": [
    {
     "data": {
      "text/plain": [
       "123"
      ]
     },
     "execution_count": 56,
     "metadata": {},
     "output_type": "execute_result"
    }
   ],
   "source": [
    "sum(l)"
   ]
  },
  {
   "cell_type": "code",
   "execution_count": 58,
   "id": "63dcbad5-0634-4d6f-b76c-0e0fc8f0ddf6",
   "metadata": {},
   "outputs": [
    {
     "data": {
      "text/plain": [
       "123"
      ]
     },
     "execution_count": 58,
     "metadata": {},
     "output_type": "execute_result"
    }
   ],
   "source": [
    "result = 0\n",
    "for i in l:\n",
    "    result = result + i\n",
    "result"
   ]
  },
  {
   "cell_type": "code",
   "execution_count": null,
   "id": "5a624fdf-ead8-4eeb-8daa-88560188fb15",
   "metadata": {},
   "outputs": [],
   "source": []
  }
 ],
 "metadata": {
  "kernelspec": {
   "display_name": "Python 3 (ipykernel)",
   "language": "python",
   "name": "python3"
  },
  "language_info": {
   "codemirror_mode": {
    "name": "ipython",
    "version": 3
   },
   "file_extension": ".py",
   "mimetype": "text/x-python",
   "name": "python",
   "nbconvert_exporter": "python",
   "pygments_lexer": "ipython3",
   "version": "3.10.8"
  }
 },
 "nbformat": 4,
 "nbformat_minor": 5
}
