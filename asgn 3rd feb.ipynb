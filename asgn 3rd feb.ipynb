{
 "cells": [
  {
   "cell_type": "code",
   "execution_count": 74,
   "id": "8c62d683-ee2a-4c0a-8ba9-08563f31b155",
   "metadata": {},
   "outputs": [],
   "source": [
    "# Which keywordis used to create a function? create a function to return a list of odd numbers in the range of 1 to 25.\n",
    "\n",
    "# Ans. The def keyword is used to create a function.\n"
   ]
  },
  {
   "cell_type": "code",
   "execution_count": 44,
   "id": "38f4fb62-29a9-4ea9-99c3-0f38547d3e48",
   "metadata": {},
   "outputs": [],
   "source": [
    "def odd_num():\n",
    "    for i in list(range(1,25+1,2)):\n",
    "        print(i)"
   ]
  },
  {
   "cell_type": "code",
   "execution_count": 45,
   "id": "91994a17-72ce-4d08-a219-b0cf4ecff3cc",
   "metadata": {},
   "outputs": [
    {
     "name": "stdout",
     "output_type": "stream",
     "text": [
      "1\n",
      "3\n",
      "5\n",
      "7\n",
      "9\n",
      "11\n",
      "13\n",
      "15\n",
      "17\n",
      "19\n",
      "21\n",
      "23\n",
      "25\n"
     ]
    }
   ],
   "source": [
    "odd_num()"
   ]
  },
  {
   "cell_type": "code",
   "execution_count": 4,
   "id": "eeeabfb8-3659-499e-89d1-5204bdfb7ff8",
   "metadata": {},
   "outputs": [
    {
     "name": "stdout",
     "output_type": "stream",
     "text": [
      "6\n",
      "240\n",
      "720\n"
     ]
    }
   ],
   "source": [
    "#Q2. Why *args and **kwargs is used in some functions? Create a function each for *args and **kwargs\n",
    "#to demonstrate their use.\n",
    "# Ans:\n",
    "\"\"\"*args specifies the number of non-keyworded arguments that can be passed and the operations that can \n",
    "be performed on the function in Python whereas.\n",
    "**kwargs is a variable number of keyworded arguments that\n",
    "can be passed to a function that can perform dictionary operations.\"\"\"\n",
    "\n",
    "#example\n",
    "\n",
    "def multiply(*args):\n",
    "    z= 1\n",
    "    for number in args:\n",
    "        z *= number\n",
    "    print(z)\n",
    "multiply(2,3)\n",
    "multiply(5,6,8)\n",
    "multiply(2,5,8,9)\n"
   ]
  },
  {
   "cell_type": "code",
   "execution_count": 6,
   "id": "fe438593-4707-4f3e-9b25-f3457e1cfd7d",
   "metadata": {},
   "outputs": [
    {
     "name": "stdout",
     "output_type": "stream",
     "text": [
      "The value of my_name is rishikesh\n",
      "The value of your_name is rahul\n"
     ]
    }
   ],
   "source": [
    "def print_values(**kwargs):\n",
    "    for key, value in kwargs.items():\n",
    "        print(\"The value of {} is {}\".format(key, value))\n",
    "\n",
    "print_values(my_name=\"rishikesh\", your_name=\"rahul\")"
   ]
  },
  {
   "cell_type": "code",
   "execution_count": 20,
   "id": "712878b6-0e96-4e78-9fce-fa5dc6df553a",
   "metadata": {},
   "outputs": [],
   "source": [
    "# Q3. What is an iterator in python?python? Name the method used to initialise the iterator object and the method\n",
    "#  used for iteration. Use these methods to print the first five elements of the given list [2, 4, 6, 8, 10, 12, 14,\n",
    "#  16, 18, 20].\n",
    "\"\"\"Python is an Object-Oriented Language, everything in python is considered as an object, including variables, functions,\n",
    "lists, tuples, set, etc. There are some objects which are iterable, which means we can traverse over them and they will \n",
    "return their member value one by one.\n",
    "\n",
    "Examples of iterable objects are: List, Tuple, Dictionary\n",
    "The two dunder methods we have to use are:\n",
    "\n",
    "__iter__()\n",
    "__next__() These are similar to iter()\n",
    "  and next().\n",
    "__iter__() should return the iterator object. If required, some initialization can be performed.\n",
    "\n",
    "__next__() should return the next item in the sequence.\"\"\"\n",
    "\n",
    "l1 = list(range(2,20+1,2))"
   ]
  },
  {
   "cell_type": "code",
   "execution_count": 31,
   "id": "3f05c025-3bf3-400e-b699-46769d93a49f",
   "metadata": {},
   "outputs": [],
   "source": [
    "l2 = list(range(2,20+1,4))"
   ]
  },
  {
   "cell_type": "code",
   "execution_count": 32,
   "id": "e9483f6d-0251-4a69-b0b1-0cf82d9f34aa",
   "metadata": {},
   "outputs": [
    {
     "data": {
      "text/plain": [
       "[2, 6, 10, 14, 18]"
      ]
     },
     "execution_count": 32,
     "metadata": {},
     "output_type": "execute_result"
    }
   ],
   "source": [
    "l2"
   ]
  },
  {
   "cell_type": "code",
   "execution_count": 44,
   "id": "77bd6453-cab0-4a54-bd00-4302a4c41258",
   "metadata": {},
   "outputs": [
    {
     "name": "stdout",
     "output_type": "stream",
     "text": [
      "2\n",
      "4\n",
      "6\n",
      "8\n",
      "10\n"
     ]
    }
   ],
   "source": [
    "l1 =iter(l1) \n",
    "\n",
    "print(next(l1))\n",
    "print(next(l1))\n",
    "print(next(l1))\n",
    "print(next(l1))\n",
    "print(next(l1))\n"
   ]
  },
  {
   "cell_type": "code",
   "execution_count": 45,
   "id": "60b88c74-f0c8-4902-ae16-c32e0bac5ab3",
   "metadata": {},
   "outputs": [
    {
     "name": "stdout",
     "output_type": "stream",
     "text": [
      "<class 'generator'>\n",
      "Hello world!!\n",
      "Geeksforgeeks\n"
     ]
    }
   ],
   "source": [
    "# Q4.What is a generator function in python? Why yield keyword is used? Give an example of a generator function.\n",
    "\n",
    "\"\"\" Ans: Python Generator functions allow you to declare a function that behaves likes an iterator, \n",
    "allowing programmers to make an iterator in a fast, easy, and clean way. An iterator is an object \n",
    "that can be iterated or looped upon. It is used to abstract a container of data to make it behave \n",
    "like an iterable object. Examples of iterable objects that are used more commonly include lists,\n",
    "dictionaries, and strings.\n",
    "\n",
    "yield keyword is used to create a generator function. A type of function that is memory efficient\n",
    "and can be used like an iterator object.\n",
    "\n",
    "advatages:\n",
    "Using yield keyword is highly memory efficient, since the execution happens only when the caller iterates over the object.\n",
    "As the variables states are saved, we can pause and resume from the same point, thus saving time.\"\"\"\n",
    "def fun_generator():\n",
    "    yield \"Hello world!!\"\n",
    "    yield \"Geeksforgeeks\"\n",
    " \n",
    " \n",
    "obj = fun_generator()\n",
    " \n",
    "print(type(obj))\n",
    " \n",
    "print(next(obj))\n",
    "print(next(obj))"
   ]
  },
  {
   "cell_type": "code",
   "execution_count": 77,
   "id": "88d34d8e-65e2-472b-bfe8-075ff4a7c23b",
   "metadata": {},
   "outputs": [
    {
     "name": "stdout",
     "output_type": "stream",
     "text": [
      "2\n",
      "3\n",
      "5\n",
      "7\n",
      "11\n",
      "13\n",
      "17\n",
      "19\n",
      "23\n",
      "29\n",
      "31\n",
      "37\n",
      "41\n",
      "43\n",
      "47\n",
      "53\n",
      "59\n",
      "61\n",
      "67\n",
      "71\n"
     ]
    }
   ],
   "source": [
    " #Q5. Create a generator function for prime numbers less than 1000. Use the next() method to print the\n",
    "#     first 20 prime numbers.\n",
    "\n",
    "def primes():\n",
    "    for num in range(2, 1000):\n",
    "        a = True\n",
    "        for i in range(2, int(num**0.5)+1):\n",
    "            if num % i == 0:\n",
    "                a = False\n",
    "                break\n",
    "        if a:\n",
    "            yield num\n",
    "#To print the first 20 prime numbers, we can use the next() method to iterate through the generator 20 times:\n",
    "gen = primes()\n",
    "for i in range(20):\n",
    "    print(next(gen))        "
   ]
  },
  {
   "cell_type": "code",
   "execution_count": 79,
   "id": "c4007b57-4858-4ade-bd18-f32cb822227b",
   "metadata": {},
   "outputs": [],
   "source": [
    "#  Q6. Write a python program to print the first 10 Fibonacci numbers using a while loop.\n",
    "\n",
    "def fib():\n",
    "    a,b = 0,1\n",
    "    while True:\n",
    "        yield a\n",
    "        a,b =b ,a+b "
   ]
  },
  {
   "cell_type": "code",
   "execution_count": 81,
   "id": "868f7637-4cab-4894-95f2-64d091cacfc0",
   "metadata": {},
   "outputs": [],
   "source": [
    "fibnacci = fib()"
   ]
  },
  {
   "cell_type": "code",
   "execution_count": 84,
   "id": "9febf4fa-69d3-4ab6-99bf-0be4248ad9a3",
   "metadata": {},
   "outputs": [
    {
     "name": "stdout",
     "output_type": "stream",
     "text": [
      "0\n",
      "1\n",
      "1\n",
      "2\n",
      "3\n",
      "5\n",
      "8\n",
      "13\n",
      "21\n",
      "34\n"
     ]
    }
   ],
   "source": [
    "for i in range(10):\n",
    "    print(next(fibnacci))"
   ]
  },
  {
   "cell_type": "code",
   "execution_count": 98,
   "id": "f1ae4887-026f-4f34-b068-9a77bcc57e49",
   "metadata": {},
   "outputs": [
    {
     "name": "stdout",
     "output_type": "stream",
     "text": [
      "['p', 'w', 's', 'k', 'i', 'l', 'l', 's']\n"
     ]
    },
    {
     "data": {
      "text/plain": [
       "['P', 'W', 'S', 'K', 'I', 'L', 'L', 'S']"
      ]
     },
     "execution_count": 98,
     "metadata": {},
     "output_type": "execute_result"
    }
   ],
   "source": [
    "#  Q7. Write a List Comprehension to iterate through the given string: ‘pwskills’.\n",
    "#      Expected output: ['p', 'w', 's', 'k', 'i', 'l', 'l', 's'].\n",
    "\n",
    "#   Ans: \n",
    "i_letters = []\n",
    "\n",
    "for letter in 'pwskills':\n",
    "    i_letters.append(letter)\n",
    "\n",
    "print(i_letters)\n",
    "[i.upper() for i in i_letters]"
   ]
  },
  {
   "cell_type": "code",
   "execution_count": 97,
   "id": "e3ead3e1-28e2-474c-b3fa-076c7a34b7d9",
   "metadata": {},
   "outputs": [
    {
     "data": {
      "text/plain": [
       "['P', 'W', 'S', 'K', 'I', 'L', 'L', 'S']"
      ]
     },
     "execution_count": 97,
     "metadata": {},
     "output_type": "execute_result"
    }
   ],
   "source": [
    "[i.upper() for i in i_letters]"
   ]
  },
  {
   "cell_type": "code",
   "execution_count": 101,
   "id": "8271151b-b456-4626-99cd-7583ad113565",
   "metadata": {},
   "outputs": [
    {
     "name": "stdin",
     "output_type": "stream",
     "text": [
      "Enter a string: RACECAR\n"
     ]
    },
    {
     "name": "stdout",
     "output_type": "stream",
     "text": [
      "The string is a palindrome\n"
     ]
    }
   ],
   "source": [
    "#   Q8. Write a python program to check whether a given number is Palindrome or not using a while loop.\n",
    "# Ans: \n",
    "string=input((\"Enter a string:\"))\n",
    "if(string==string[::-1]):\n",
    "      print(\"The string is a palindrome\")\n",
    "else:\n",
    "      print(\"Not a palindrome\")"
   ]
  },
  {
   "cell_type": "code",
   "execution_count": 113,
   "id": "f8999492-d965-4fdf-978f-455c0ee417e8",
   "metadata": {},
   "outputs": [
    {
     "name": "stdout",
     "output_type": "stream",
     "text": [
      "[1, 2, 3, 4, 5, 6, 7, 8, 9, 10, 11, 12, 13, 14, 15, 16, 17, 18, 19, 20, 21, 22, 23, 24, 25, 26, 27, 28, 29, 30, 31, 32, 33, 34, 35, 36, 37, 38, 39, 40, 41, 42, 43, 44, 45, 46, 47, 48, 49, 50, 51, 52, 53, 54, 55, 56, 57, 58, 59, 60, 61, 62, 63, 64, 65, 66, 67, 68, 69, 70, 71, 72, 73, 74, 75, 76, 77, 78, 79, 80, 81, 82, 83, 84, 85, 86, 87, 88, 89, 90, 91, 92, 93, 94, 95, 96, 97, 98, 99, 100]\n"
     ]
    }
   ],
   "source": [
    "#   Q9. Write a code to print odd numbers from 1 to 100 using list comprehension.\n",
    "\n",
    "l = list(range(1,100+1,1))\n",
    "print(l)"
   ]
  },
  {
   "cell_type": "code",
   "execution_count": 122,
   "id": "12b0330a-0bf9-45bd-a4fa-3943dc33d9ce",
   "metadata": {},
   "outputs": [],
   "source": [
    "odd_no = list(filter(lambda i: (i % 2 == 0), l))"
   ]
  },
  {
   "cell_type": "code",
   "execution_count": null,
   "id": "71c5ad53-ad23-4468-ace1-73b9f87b519b",
   "metadata": {},
   "outputs": [],
   "source": []
  }
 ],
 "metadata": {
  "kernelspec": {
   "display_name": "Python 3 (ipykernel)",
   "language": "python",
   "name": "python3"
  },
  "language_info": {
   "codemirror_mode": {
    "name": "ipython",
    "version": 3
   },
   "file_extension": ".py",
   "mimetype": "text/x-python",
   "name": "python",
   "nbconvert_exporter": "python",
   "pygments_lexer": "ipython3",
   "version": "3.10.8"
  }
 },
 "nbformat": 4,
 "nbformat_minor": 5
}
